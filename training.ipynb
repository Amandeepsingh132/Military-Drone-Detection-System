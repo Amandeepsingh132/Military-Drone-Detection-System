{
 "cells": [
  {
   "cell_type": "code",
   "execution_count": null,
   "metadata": {
    "vscode": {
     "languageId": "plaintext"
    }
   },
   "outputs": [],
   "source": [
    "!pip install ultralytics\n",
    "!pip install tqdm --upgrade\n",
    "\n",
    "import os,shutil,random\n",
    "from tqdm.notebook import tqdm"
   ]
  },
  {
   "cell_type": "code",
   "execution_count": null,
   "metadata": {
    "vscode": {
     "languageId": "plaintext"
    }
   },
   "outputs": [],
   "source": [
    "## connecting to the google drive\n",
    "from google.colab import drive\n",
    "drive.mount('/content/drive',force_remount=True)\n",
    "\n",
    "## Check for all Ultralytics packages\n",
    "import ultralytics\n",
    "ultralytics.checks()\n",
    "\n",
    "## /content/drive/MyDrive/yolov8/yolo_data/train"
   ]
  },
  {
   "cell_type": "code",
   "execution_count": null,
   "metadata": {
    "vscode": {
     "languageId": "plaintext"
    }
   },
   "outputs": [],
   "source": [
    "# Training setup\n",
    "epochs_size = 50                   # Total epochs\n",
    "batch_size = 16                    # Batch size\n",
    "pretrained_model = \"yolov8m.pt\"    # Pretrained model (can be 'n', 's', 'm', 'l' for different sizes)\n",
    "training_name = \"test\"             # Folder name for saving results\n",
    "\n",
    "data_path = \"/content/drive/MyDrive/yolov9/dataset.yaml\"  # Path to your data.yaml file\n",
    "project_path = \"/content/drive/MyDrive/yolov9/training_results\"  # Path where results will be saved\n",
    "\n",
    "# Train the model from scratch using the pretrained model\n",
    "!yolo task=detect mode=train model={pretrained_model} data={data_path} epochs={epochs_size} imgsz=640 batch={batch_size} project={project_path} name={training_name}\n"
   ]
  }
 ],
 "metadata": {
  "language_info": {
   "name": "python"
  }
 },
 "nbformat": 4,
 "nbformat_minor": 2
}
